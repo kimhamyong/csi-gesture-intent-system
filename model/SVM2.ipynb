def extract_features_from_sliding_windows(csv_path, window_size=21, stride=21):
    """
    하나의 CSV 파일에서 슬라이딩 윈도우로 여러 feature 벡터 추출
    """
    df = pd.read_csv(csv_path)
    csi_cols = [col for col in df.columns if col.startswith("_")]
    df_real = df[csi_cols].apply(lambda col: col.map(extract_real_from_complex_string))

    features = []
    for start in range(0, len(df_real) - window_size + 1, stride):
        window = df_real.iloc[start:start + window_size]

        means = window.mean().values
        stds = window.std().values
        maxs = window.max().values
        mins = window.min().values

        skews = window.apply(stats.skew, axis=0).values
        kurts = window.apply(stats.kurtosis, axis=0).values

        vector = np.concatenate([means, stds, maxs, mins, skews, kurts])
        features.append(vector)

    return features  # (N_windows, feature_dim)

def load_dataset_with_sliding_window(base_path="./data", window_size=21, stride=21):
    X = []
    y = []

    folder_label_map = {
        "hands_up": 0,
        "wave_hands": 1
    }

    for folder in os.listdir(base_path):
        folder_path = os.path.join(base_path, folder)
        if not os.path.isdir(folder_path):
            continue

        label = None
        for k in folder_label_map:
            if folder.startswith(k):
                label = folder_label_map[k]
                break
        if label is None:
            continue

        for fname in os.listdir(folder_path):
            if not fname.endswith(".csv"):
                continue
            fpath = os.path.join(folder_path, fname)
            vectors = extract_features_from_sliding_windows(fpath, window_size, stride)
            X.extend(vectors)
            y.extend([label] * len(vectors))

    return np.array(X), np.array(y)

X, y = load_dataset_with_sliding_window(
    base_path="/content/drive/MyDrive/Colab Notebooks/",
    window_size=21,
    stride=21  # or 10 for overlap
)
train_and_evaluate(X, y)
